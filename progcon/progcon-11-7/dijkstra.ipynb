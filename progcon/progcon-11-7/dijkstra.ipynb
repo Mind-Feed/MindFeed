{
 "cells": [
  {
   "cell_type": "code",
   "execution_count": 2,
   "metadata": {},
   "outputs": [],
   "source": [
    "import networkx as network\n",
    "import matplotlib.pyplot as plt"
   ]
  },
  {
   "cell_type": "code",
   "execution_count": 3,
   "metadata": {},
   "outputs": [],
   "source": [
    "def dijkstra(graph, start, end):\n",
    "    # initialize distances with infinity\n",
    "    distances = {node: float('infinity') for node in graph.nodes}\n",
    "    # set the distance to the start node to 0\n",
    "    distances[start] = 0\n",
    "    \n",
    "    # initialize the list of unvisited nodes\n",
    "    unvisited = set(graph.nodes)\n",
    "    # initialize the dictionary to store the shortest path\n",
    "    previous_nodes = {node: None for node in graph.nodes}\n",
    "    # print(f\"Initial path: {previous_nodes}\")\n",
    "    \n",
    "    while unvisited:\n",
    "        # get the node with the smallest distance\n",
    "        current_node = min(unvisited, key = lambda node:distances[node])\n",
    "        # if the smallest distance is infinity, exit the loop\n",
    "        if distances[current_node] == float('infinity'):\n",
    "            break\n",
    "        #remove current_node from unvisited\n",
    "        unvisited.remove(current_node)\n",
    "        #unvisited.\n",
    "        \n",
    "        for neighbor, weight in graph[current_node].items():\n",
    "            distance = distances[current_node] + weight['weight']\n",
    "            if distance < distances[neighbor]:\n",
    "                distances[neighbor] = distance\n",
    "                previous_nodes[neighbor] = current_node\n",
    "        if current_node == end:\n",
    "            break\n",
    "    return distances\n",
    "                \n",
    "                "
   ]
  },
  {
   "cell_type": "code",
   "execution_count": null,
   "metadata": {},
   "outputs": [],
   "source": [
    "G = network.DiGraph()\n",
    "edges = [\n",
    "    ('A', 'B', 20),\n",
    "    ('A', 'D', 80),\n",
    "    ('B', 'F', 90),\n",
    "    ('C', 'D', 10),\n",
    "    ('C', 'H', 10),\n",
    "    ('C', 'F', 20),\n",
    "    ('D', 'G', 50),\n",
    "    ('D', 'C', 20),\n",
    "    ('E', 'B', 8),\n",
    "    ('E', 'G', 4),\n",
    "    ('F', 'D', 6),\n",
    "    ('F', 'C', 6),\n",
    "    ('G', 'A', 1)    \n",
    "]\n",
    "G.add_weighted_edges_from(edges)\n"
   ]
  },
  {
   "cell_type": "code",
   "execution_count": 6,
   "metadata": {},
   "outputs": [
    {
     "name": "stdout",
     "output_type": "stream",
     "text": [
      "Distances: {'A': 0, 'B': 2, 'D': 1, 'E': 3, 'C': 3, 'F': 6, 'G': 5}\n"
     ]
    }
   ],
   "source": [
    "# run Dijkstra's algorithm\n",
    "start_node = 'A'\n",
    "end_node = 'G'\n",
    "distances = dijkstra(G, start_node, end_node)\n",
    "print(f\"Distances: {distances}\")"
   ]
  }
 ],
 "metadata": {
  "kernelspec": {
   "display_name": "Python 3",
   "language": "python",
   "name": "python3"
  },
  "language_info": {
   "codemirror_mode": {
    "name": "ipython",
    "version": 3
   },
   "file_extension": ".py",
   "mimetype": "text/x-python",
   "name": "python",
   "nbconvert_exporter": "python",
   "pygments_lexer": "ipython3",
   "version": "3.11.9"
  }
 },
 "nbformat": 4,
 "nbformat_minor": 2
}
